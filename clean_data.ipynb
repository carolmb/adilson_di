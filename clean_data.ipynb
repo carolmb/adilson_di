{
 "cells": [
  {
   "cell_type": "code",
   "execution_count": 1,
   "id": "37b34312-55e0-4b1e-a2ba-8d67e452eef6",
   "metadata": {
    "execution": {
     "iopub.execute_input": "2024-10-18T16:24:07.540593Z",
     "iopub.status.busy": "2024-10-18T16:24:07.540361Z",
     "iopub.status.idle": "2024-10-18T16:24:12.389240Z",
     "shell.execute_reply": "2024-10-18T16:24:12.388189Z",
     "shell.execute_reply.started": "2024-10-18T16:24:07.540575Z"
    }
   },
   "outputs": [],
   "source": [
    "import glob\n",
    "import tqdm\n",
    "import numpy as np\n",
    "import pandas as pd\n",
    "import dask.dataframe as dd\n",
    "import matplotlib.pyplot as plt\n",
    "from itertools import combinations"
   ]
  },
  {
   "cell_type": "code",
   "execution_count": 2,
   "id": "a569f300-97df-4e3c-ae12-5e7a313a5e54",
   "metadata": {
    "execution": {
     "iopub.execute_input": "2024-10-18T16:24:12.390425Z",
     "iopub.status.busy": "2024-10-18T16:24:12.390220Z",
     "iopub.status.idle": "2024-10-18T16:24:13.227162Z",
     "shell.execute_reply": "2024-10-18T16:24:13.226241Z",
     "shell.execute_reply.started": "2024-10-18T16:24:12.390408Z"
    }
   },
   "outputs": [],
   "source": [
    "adilson_papers = pd.read_csv('rank_cit_v3.csv')"
   ]
  },
  {
   "cell_type": "code",
   "execution_count": 25,
   "id": "a9a03358-66cc-443b-8d47-bfe603821c1b",
   "metadata": {
    "execution": {
     "iopub.execute_input": "2024-10-18T20:11:08.664017Z",
     "iopub.status.busy": "2024-10-18T20:11:08.657502Z",
     "iopub.status.idle": "2024-10-18T20:11:08.737755Z",
     "shell.execute_reply": "2024-10-18T20:11:08.735297Z",
     "shell.execute_reply.started": "2024-10-18T20:11:08.663982Z"
    }
   },
   "outputs": [
    {
     "data": {
      "text/plain": [
       "33803"
      ]
     },
     "execution_count": 25,
     "metadata": {},
     "output_type": "execute_result"
    }
   ],
   "source": [
    "len(set(adilson_papers['doi']))"
   ]
  },
  {
   "cell_type": "code",
   "execution_count": 3,
   "id": "8337778f-4a23-4d42-8143-416cc25d1578",
   "metadata": {
    "execution": {
     "iopub.execute_input": "2024-10-18T16:24:13.228243Z",
     "iopub.status.busy": "2024-10-18T16:24:13.228022Z",
     "iopub.status.idle": "2024-10-18T16:24:13.247124Z",
     "shell.execute_reply": "2024-10-18T16:24:13.246506Z",
     "shell.execute_reply.started": "2024-10-18T16:24:13.228225Z"
    }
   },
   "outputs": [
    {
     "data": {
      "text/html": [
       "<div>\n",
       "<style scoped>\n",
       "    .dataframe tbody tr th:only-of-type {\n",
       "        vertical-align: middle;\n",
       "    }\n",
       "\n",
       "    .dataframe tbody tr th {\n",
       "        vertical-align: top;\n",
       "    }\n",
       "\n",
       "    .dataframe thead th {\n",
       "        text-align: right;\n",
       "    }\n",
       "</style>\n",
       "<table border=\"1\" class=\"dataframe\">\n",
       "  <thead>\n",
       "    <tr style=\"text-align: right;\">\n",
       "      <th></th>\n",
       "      <th>doi</th>\n",
       "      <th>publication_year</th>\n",
       "      <th>domain</th>\n",
       "      <th>field</th>\n",
       "      <th>subfield</th>\n",
       "      <th>cit_year</th>\n",
       "      <th>citations</th>\n",
       "      <th>years_after_publication</th>\n",
       "      <th>acc_citations</th>\n",
       "      <th>percentile_citations_field</th>\n",
       "      <th>...</th>\n",
       "      <th>q_0.7_acc_citations_field</th>\n",
       "      <th>y_acc_citations_0.7_field</th>\n",
       "      <th>q_0.8_acc_citations_journal</th>\n",
       "      <th>y_acc_citations_0.8_journal</th>\n",
       "      <th>q_0.8_acc_citations_field</th>\n",
       "      <th>y_acc_citations_0.8_field</th>\n",
       "      <th>q_0.9_acc_citations_journal</th>\n",
       "      <th>y_acc_citations_0.9_journal</th>\n",
       "      <th>q_0.9_acc_citations_field</th>\n",
       "      <th>y_acc_citations_0.9_field</th>\n",
       "    </tr>\n",
       "  </thead>\n",
       "  <tbody>\n",
       "    <tr>\n",
       "      <th>0</th>\n",
       "      <td>10.1021/am201193x</td>\n",
       "      <td>2012</td>\n",
       "      <td>Physical Sciences</td>\n",
       "      <td>Materials Science</td>\n",
       "      <td>Polymers and Plastics</td>\n",
       "      <td>2012</td>\n",
       "      <td>0</td>\n",
       "      <td>0.0</td>\n",
       "      <td>0</td>\n",
       "      <td>0.268921</td>\n",
       "      <td>...</td>\n",
       "      <td>1.0</td>\n",
       "      <td>0</td>\n",
       "      <td>2.0</td>\n",
       "      <td>0</td>\n",
       "      <td>2.0</td>\n",
       "      <td>0</td>\n",
       "      <td>4.0</td>\n",
       "      <td>0</td>\n",
       "      <td>4.0</td>\n",
       "      <td>0</td>\n",
       "    </tr>\n",
       "    <tr>\n",
       "      <th>1</th>\n",
       "      <td>10.1021/am2012992</td>\n",
       "      <td>2012</td>\n",
       "      <td>Physical Sciences</td>\n",
       "      <td>Materials Science</td>\n",
       "      <td>Materials Chemistry</td>\n",
       "      <td>2012</td>\n",
       "      <td>0</td>\n",
       "      <td>0.0</td>\n",
       "      <td>0</td>\n",
       "      <td>0.268921</td>\n",
       "      <td>...</td>\n",
       "      <td>1.0</td>\n",
       "      <td>0</td>\n",
       "      <td>2.0</td>\n",
       "      <td>0</td>\n",
       "      <td>2.0</td>\n",
       "      <td>0</td>\n",
       "      <td>4.0</td>\n",
       "      <td>0</td>\n",
       "      <td>4.0</td>\n",
       "      <td>0</td>\n",
       "    </tr>\n",
       "    <tr>\n",
       "      <th>2</th>\n",
       "      <td>10.1021/am201345v</td>\n",
       "      <td>2012</td>\n",
       "      <td>Physical Sciences</td>\n",
       "      <td>Materials Science</td>\n",
       "      <td>Materials Chemistry</td>\n",
       "      <td>2012</td>\n",
       "      <td>0</td>\n",
       "      <td>0.0</td>\n",
       "      <td>0</td>\n",
       "      <td>0.268921</td>\n",
       "      <td>...</td>\n",
       "      <td>1.0</td>\n",
       "      <td>0</td>\n",
       "      <td>2.0</td>\n",
       "      <td>0</td>\n",
       "      <td>2.0</td>\n",
       "      <td>0</td>\n",
       "      <td>4.0</td>\n",
       "      <td>0</td>\n",
       "      <td>4.0</td>\n",
       "      <td>0</td>\n",
       "    </tr>\n",
       "    <tr>\n",
       "      <th>3</th>\n",
       "      <td>10.1021/am201411g</td>\n",
       "      <td>2012</td>\n",
       "      <td>Physical Sciences</td>\n",
       "      <td>Materials Science</td>\n",
       "      <td>Materials Chemistry</td>\n",
       "      <td>2012</td>\n",
       "      <td>0</td>\n",
       "      <td>0.0</td>\n",
       "      <td>0</td>\n",
       "      <td>0.268921</td>\n",
       "      <td>...</td>\n",
       "      <td>1.0</td>\n",
       "      <td>0</td>\n",
       "      <td>2.0</td>\n",
       "      <td>0</td>\n",
       "      <td>2.0</td>\n",
       "      <td>0</td>\n",
       "      <td>4.0</td>\n",
       "      <td>0</td>\n",
       "      <td>4.0</td>\n",
       "      <td>0</td>\n",
       "    </tr>\n",
       "    <tr>\n",
       "      <th>4</th>\n",
       "      <td>10.1021/am201427q</td>\n",
       "      <td>2012</td>\n",
       "      <td>Physical Sciences</td>\n",
       "      <td>Materials Science</td>\n",
       "      <td>Materials Chemistry</td>\n",
       "      <td>2012</td>\n",
       "      <td>0</td>\n",
       "      <td>0.0</td>\n",
       "      <td>0</td>\n",
       "      <td>0.268921</td>\n",
       "      <td>...</td>\n",
       "      <td>1.0</td>\n",
       "      <td>0</td>\n",
       "      <td>2.0</td>\n",
       "      <td>0</td>\n",
       "      <td>2.0</td>\n",
       "      <td>0</td>\n",
       "      <td>4.0</td>\n",
       "      <td>0</td>\n",
       "      <td>4.0</td>\n",
       "      <td>0</td>\n",
       "    </tr>\n",
       "  </tbody>\n",
       "</table>\n",
       "<p>5 rows × 45 columns</p>\n",
       "</div>"
      ],
      "text/plain": [
       "                 doi  publication_year             domain              field  \\\n",
       "0  10.1021/am201193x              2012  Physical Sciences  Materials Science   \n",
       "1  10.1021/am2012992              2012  Physical Sciences  Materials Science   \n",
       "2  10.1021/am201345v              2012  Physical Sciences  Materials Science   \n",
       "3  10.1021/am201411g              2012  Physical Sciences  Materials Science   \n",
       "4  10.1021/am201427q              2012  Physical Sciences  Materials Science   \n",
       "\n",
       "                subfield  cit_year  citations  years_after_publication  \\\n",
       "0  Polymers and Plastics      2012          0                      0.0   \n",
       "1    Materials Chemistry      2012          0                      0.0   \n",
       "2    Materials Chemistry      2012          0                      0.0   \n",
       "3    Materials Chemistry      2012          0                      0.0   \n",
       "4    Materials Chemistry      2012          0                      0.0   \n",
       "\n",
       "   acc_citations  percentile_citations_field  ...  q_0.7_acc_citations_field  \\\n",
       "0              0                    0.268921  ...                        1.0   \n",
       "1              0                    0.268921  ...                        1.0   \n",
       "2              0                    0.268921  ...                        1.0   \n",
       "3              0                    0.268921  ...                        1.0   \n",
       "4              0                    0.268921  ...                        1.0   \n",
       "\n",
       "   y_acc_citations_0.7_field  q_0.8_acc_citations_journal  \\\n",
       "0                          0                          2.0   \n",
       "1                          0                          2.0   \n",
       "2                          0                          2.0   \n",
       "3                          0                          2.0   \n",
       "4                          0                          2.0   \n",
       "\n",
       "   y_acc_citations_0.8_journal  q_0.8_acc_citations_field  \\\n",
       "0                            0                        2.0   \n",
       "1                            0                        2.0   \n",
       "2                            0                        2.0   \n",
       "3                            0                        2.0   \n",
       "4                            0                        2.0   \n",
       "\n",
       "   y_acc_citations_0.8_field  q_0.9_acc_citations_journal  \\\n",
       "0                          0                          4.0   \n",
       "1                          0                          4.0   \n",
       "2                          0                          4.0   \n",
       "3                          0                          4.0   \n",
       "4                          0                          4.0   \n",
       "\n",
       "   y_acc_citations_0.9_journal  q_0.9_acc_citations_field  \\\n",
       "0                            0                        4.0   \n",
       "1                            0                        4.0   \n",
       "2                            0                        4.0   \n",
       "3                            0                        4.0   \n",
       "4                            0                        4.0   \n",
       "\n",
       "   y_acc_citations_0.9_field  \n",
       "0                          0  \n",
       "1                          0  \n",
       "2                          0  \n",
       "3                          0  \n",
       "4                          0  \n",
       "\n",
       "[5 rows x 45 columns]"
      ]
     },
     "execution_count": 3,
     "metadata": {},
     "output_type": "execute_result"
    }
   ],
   "source": [
    "adilson_papers.head()"
   ]
  },
  {
   "cell_type": "code",
   "execution_count": 4,
   "id": "e090e689-b9f2-45db-ba51-c41cfc766e7f",
   "metadata": {
    "execution": {
     "iopub.execute_input": "2024-10-18T16:24:13.247986Z",
     "iopub.status.busy": "2024-10-18T16:24:13.247802Z",
     "iopub.status.idle": "2024-10-18T16:24:13.273800Z",
     "shell.execute_reply": "2024-10-18T16:24:13.273205Z",
     "shell.execute_reply.started": "2024-10-18T16:24:13.247970Z"
    }
   },
   "outputs": [],
   "source": [
    "adilson_papers_set = set(adilson_papers['doi'])"
   ]
  },
  {
   "cell_type": "code",
   "execution_count": 5,
   "id": "2e69424c-fe9b-4295-879b-8e942d6c6a0c",
   "metadata": {
    "execution": {
     "iopub.execute_input": "2024-10-18T16:24:13.275199Z",
     "iopub.status.busy": "2024-10-18T16:24:13.275028Z",
     "iopub.status.idle": "2024-10-18T16:24:13.279012Z",
     "shell.execute_reply": "2024-10-18T16:24:13.278491Z",
     "shell.execute_reply.started": "2024-10-18T16:24:13.275183Z"
    }
   },
   "outputs": [],
   "source": [
    "path = '/mnt/openalex/slices/subset-1990-2022/dec-2023/'\n",
    "works_path = 'works'\n",
    "works_authorships_path = 'works_authorships'\n",
    "works_referenced_works_path = 'works_referenced_works'"
   ]
  },
  {
   "cell_type": "code",
   "execution_count": 6,
   "id": "2b2c2942-429d-47b0-961f-c9a3685bc60f",
   "metadata": {
    "execution": {
     "iopub.execute_input": "2024-10-18T16:24:13.279743Z",
     "iopub.status.busy": "2024-10-18T16:24:13.279578Z",
     "iopub.status.idle": "2024-10-18T16:24:13.294521Z",
     "shell.execute_reply": "2024-10-18T16:24:13.293984Z",
     "shell.execute_reply.started": "2024-10-18T16:24:13.279729Z"
    }
   },
   "outputs": [],
   "source": [
    "adilson_di = pd.read_csv('Dindex_list_adilson')"
   ]
  },
  {
   "cell_type": "code",
   "execution_count": 23,
   "id": "d606e41f-3195-458e-ae40-c69fc1c59790",
   "metadata": {
    "execution": {
     "iopub.execute_input": "2024-10-18T20:09:31.687931Z",
     "iopub.status.busy": "2024-10-18T20:09:31.630799Z",
     "iopub.status.idle": "2024-10-18T20:09:31.693129Z",
     "shell.execute_reply": "2024-10-18T20:09:31.692464Z",
     "shell.execute_reply.started": "2024-10-18T20:09:31.687898Z"
    }
   },
   "outputs": [
    {
     "data": {
      "text/plain": [
       "8887"
      ]
     },
     "execution_count": 23,
     "metadata": {},
     "output_type": "execute_result"
    }
   ],
   "source": [
    "len(adilson_di)"
   ]
  },
  {
   "cell_type": "code",
   "execution_count": 11,
   "id": "bad2047f-08db-4975-902a-1f3d4c2ae3ca",
   "metadata": {
    "execution": {
     "iopub.execute_input": "2024-10-18T16:43:41.969513Z",
     "iopub.status.busy": "2024-10-18T16:43:41.968710Z",
     "iopub.status.idle": "2024-10-18T16:43:41.978193Z",
     "shell.execute_reply": "2024-10-18T16:43:41.977572Z",
     "shell.execute_reply.started": "2024-10-18T16:43:41.969490Z"
    }
   },
   "outputs": [
    {
     "data": {
      "text/html": [
       "<div>\n",
       "<style scoped>\n",
       "    .dataframe tbody tr th:only-of-type {\n",
       "        vertical-align: middle;\n",
       "    }\n",
       "\n",
       "    .dataframe tbody tr th {\n",
       "        vertical-align: top;\n",
       "    }\n",
       "\n",
       "    .dataframe thead th {\n",
       "        text-align: right;\n",
       "    }\n",
       "</style>\n",
       "<table border=\"1\" class=\"dataframe\">\n",
       "  <thead>\n",
       "    <tr style=\"text-align: right;\">\n",
       "      <th></th>\n",
       "      <th>paper_openalex_id</th>\n",
       "      <th>only_focal</th>\n",
       "      <th>focal_and_refs</th>\n",
       "      <th>only_refs</th>\n",
       "      <th>Dindex</th>\n",
       "    </tr>\n",
       "  </thead>\n",
       "  <tbody>\n",
       "    <tr>\n",
       "      <th>0</th>\n",
       "      <td>2411986955</td>\n",
       "      <td>3</td>\n",
       "      <td>0</td>\n",
       "      <td>1594</td>\n",
       "      <td>0.001879</td>\n",
       "    </tr>\n",
       "    <tr>\n",
       "      <th>1</th>\n",
       "      <td>2912419857</td>\n",
       "      <td>0</td>\n",
       "      <td>0</td>\n",
       "      <td>214</td>\n",
       "      <td>0.000000</td>\n",
       "    </tr>\n",
       "    <tr>\n",
       "      <th>2</th>\n",
       "      <td>3038904344</td>\n",
       "      <td>0</td>\n",
       "      <td>0</td>\n",
       "      <td>303</td>\n",
       "      <td>0.000000</td>\n",
       "    </tr>\n",
       "    <tr>\n",
       "      <th>3</th>\n",
       "      <td>2316566572</td>\n",
       "      <td>4</td>\n",
       "      <td>12</td>\n",
       "      <td>5967</td>\n",
       "      <td>-0.001337</td>\n",
       "    </tr>\n",
       "    <tr>\n",
       "      <th>4</th>\n",
       "      <td>2922512437</td>\n",
       "      <td>0</td>\n",
       "      <td>0</td>\n",
       "      <td>2788</td>\n",
       "      <td>0.000000</td>\n",
       "    </tr>\n",
       "  </tbody>\n",
       "</table>\n",
       "</div>"
      ],
      "text/plain": [
       "   paper_openalex_id  only_focal  focal_and_refs  only_refs    Dindex\n",
       "0         2411986955           3               0       1594  0.001879\n",
       "1         2912419857           0               0        214  0.000000\n",
       "2         3038904344           0               0        303  0.000000\n",
       "3         2316566572           4              12       5967 -0.001337\n",
       "4         2922512437           0               0       2788  0.000000"
      ]
     },
     "execution_count": 11,
     "metadata": {},
     "output_type": "execute_result"
    }
   ],
   "source": [
    "adilson_di = adilson_di.drop(columns=['Unnamed: 0'])\n",
    "adilson_di.head()"
   ]
  },
  {
   "cell_type": "code",
   "execution_count": 8,
   "id": "749f9c42-3b1b-4ec8-99cf-18730c134161",
   "metadata": {
    "execution": {
     "iopub.execute_input": "2024-10-18T16:24:13.302047Z",
     "iopub.status.busy": "2024-10-18T16:24:13.301890Z",
     "iopub.status.idle": "2024-10-18T16:26:48.416837Z",
     "shell.execute_reply": "2024-10-18T16:26:48.416141Z",
     "shell.execute_reply.started": "2024-10-18T16:24:13.302032Z"
    }
   },
   "outputs": [],
   "source": [
    "adilson_papers = pd.read_csv('rank_cit_v3.csv')\n",
    "adilson_papers_set = set(adilson_papers['doi'])\n",
    "works_dd = pd.read_parquet(path + works_path)#, npartitions=10)\n",
    "adilson_works_dd = works_dd[works_dd['doi'].isin(adilson_papers_set)]"
   ]
  },
  {
   "cell_type": "code",
   "execution_count": 18,
   "id": "7e748ffd-ba9f-489c-bca4-53f69f199340",
   "metadata": {
    "execution": {
     "iopub.execute_input": "2024-10-18T16:58:55.233934Z",
     "iopub.status.busy": "2024-10-18T16:58:52.924127Z",
     "iopub.status.idle": "2024-10-18T16:58:55.768110Z",
     "shell.execute_reply": "2024-10-18T16:58:55.767417Z",
     "shell.execute_reply.started": "2024-10-18T16:58:55.233886Z"
    },
    "scrolled": true
   },
   "outputs": [
    {
     "data": {
      "text/html": [
       "<div>\n",
       "<style scoped>\n",
       "    .dataframe tbody tr th:only-of-type {\n",
       "        vertical-align: middle;\n",
       "    }\n",
       "\n",
       "    .dataframe tbody tr th {\n",
       "        vertical-align: top;\n",
       "    }\n",
       "\n",
       "    .dataframe thead th {\n",
       "        text-align: right;\n",
       "    }\n",
       "</style>\n",
       "<table border=\"1\" class=\"dataframe\">\n",
       "  <thead>\n",
       "    <tr style=\"text-align: right;\">\n",
       "      <th></th>\n",
       "      <th>work_id</th>\n",
       "      <th>doi</th>\n",
       "      <th>title</th>\n",
       "      <th>publication_year</th>\n",
       "      <th>publication_date</th>\n",
       "      <th>...</th>\n",
       "      <th>has_complete_institution_info</th>\n",
       "      <th>has_grant_info</th>\n",
       "      <th>has_keywords</th>\n",
       "      <th>created_date</th>\n",
       "      <th>updated_date</th>\n",
       "    </tr>\n",
       "  </thead>\n",
       "  <tbody>\n",
       "    <tr>\n",
       "      <th>0</th>\n",
       "      <td>14772009</td>\n",
       "      <td>10.1021/am404137e</td>\n",
       "      <td>Spatial Atmospheric Atomic Layer Deposition of...</td>\n",
       "      <td>2013</td>\n",
       "      <td>2013-12-11</td>\n",
       "      <td>...</td>\n",
       "      <td>True</td>\n",
       "      <td>False</td>\n",
       "      <td>True</td>\n",
       "      <td>2016-06-24</td>\n",
       "      <td>2023-12-17 23:56:44.571</td>\n",
       "    </tr>\n",
       "    <tr>\n",
       "      <th>1</th>\n",
       "      <td>27684681</td>\n",
       "      <td>10.1021/am300593k</td>\n",
       "      <td>Thermal Treatment Effects on Charge Storage Pe...</td>\n",
       "      <td>2012</td>\n",
       "      <td>2012-06-18</td>\n",
       "      <td>...</td>\n",
       "      <td>True</td>\n",
       "      <td>False</td>\n",
       "      <td>True</td>\n",
       "      <td>2016-06-24</td>\n",
       "      <td>2023-12-16 06:51:01.293</td>\n",
       "    </tr>\n",
       "    <tr>\n",
       "      <th>2</th>\n",
       "      <td>589774250</td>\n",
       "      <td>10.1021/acsami.5b03264</td>\n",
       "      <td>Copper-Based Ultrathin Nickel Nanocone Films w...</td>\n",
       "      <td>2015</td>\n",
       "      <td>2015-05-28</td>\n",
       "      <td>...</td>\n",
       "      <td>True</td>\n",
       "      <td>True</td>\n",
       "      <td>True</td>\n",
       "      <td>2016-06-24</td>\n",
       "      <td>2023-12-10 13:23:01.967</td>\n",
       "    </tr>\n",
       "    <tr>\n",
       "      <th>3</th>\n",
       "      <td>590852885</td>\n",
       "      <td>10.1021/acsami.5b03655</td>\n",
       "      <td>Fundamental Study of Electrospun Pyrene–Polyet...</td>\n",
       "      <td>2015</td>\n",
       "      <td>2015-06-11</td>\n",
       "      <td>...</td>\n",
       "      <td>True</td>\n",
       "      <td>True</td>\n",
       "      <td>True</td>\n",
       "      <td>2016-06-24</td>\n",
       "      <td>2023-12-10 19:32:38.194</td>\n",
       "    </tr>\n",
       "    <tr>\n",
       "      <th>4</th>\n",
       "      <td>591963447</td>\n",
       "      <td>10.1021/acsami.5b03073</td>\n",
       "      <td>Correlating Molecular Structures with Transpor...</td>\n",
       "      <td>2015</td>\n",
       "      <td>2015-06-15</td>\n",
       "      <td>...</td>\n",
       "      <td>True</td>\n",
       "      <td>True</td>\n",
       "      <td>True</td>\n",
       "      <td>2016-06-24</td>\n",
       "      <td>2023-12-15 07:24:21.326</td>\n",
       "    </tr>\n",
       "  </tbody>\n",
       "</table>\n",
       "<p>5 rows × 17 columns</p>\n",
       "</div>"
      ],
      "text/plain": [
       "     work_id                     doi  \\\n",
       "0   14772009       10.1021/am404137e   \n",
       "1   27684681       10.1021/am300593k   \n",
       "2  589774250  10.1021/acsami.5b03264   \n",
       "3  590852885  10.1021/acsami.5b03655   \n",
       "4  591963447  10.1021/acsami.5b03073   \n",
       "\n",
       "                                               title  publication_year  \\\n",
       "0  Spatial Atmospheric Atomic Layer Deposition of...              2013   \n",
       "1  Thermal Treatment Effects on Charge Storage Pe...              2012   \n",
       "2  Copper-Based Ultrathin Nickel Nanocone Films w...              2015   \n",
       "3  Fundamental Study of Electrospun Pyrene–Polyet...              2015   \n",
       "4  Correlating Molecular Structures with Transpor...              2015   \n",
       "\n",
       "  publication_date  ... has_complete_institution_info has_grant_info  \\\n",
       "0       2013-12-11  ...                          True          False   \n",
       "1       2012-06-18  ...                          True          False   \n",
       "2       2015-05-28  ...                          True           True   \n",
       "3       2015-06-11  ...                          True           True   \n",
       "4       2015-06-15  ...                          True           True   \n",
       "\n",
       "   has_keywords  created_date            updated_date  \n",
       "0          True    2016-06-24 2023-12-17 23:56:44.571  \n",
       "1          True    2016-06-24 2023-12-16 06:51:01.293  \n",
       "2          True    2016-06-24 2023-12-10 13:23:01.967  \n",
       "3          True    2016-06-24 2023-12-10 19:32:38.194  \n",
       "4          True    2016-06-24 2023-12-15 07:24:21.326  \n",
       "\n",
       "[5 rows x 17 columns]"
      ]
     },
     "execution_count": 18,
     "metadata": {},
     "output_type": "execute_result"
    }
   ],
   "source": [
    "adilson_works_dd.head()"
   ]
  },
  {
   "cell_type": "code",
   "execution_count": 17,
   "id": "e3bc5326-10cf-44e6-9e59-003fd5f13d5c",
   "metadata": {
    "execution": {
     "iopub.execute_input": "2024-10-18T16:58:38.152460Z",
     "iopub.status.busy": "2024-10-18T16:58:38.152081Z",
     "iopub.status.idle": "2024-10-18T16:58:38.170645Z",
     "shell.execute_reply": "2024-10-18T16:58:38.170006Z",
     "shell.execute_reply.started": "2024-10-18T16:58:38.152437Z"
    }
   },
   "outputs": [],
   "source": [
    "adilson_works_dd = adilson_works_dd.reset_index()"
   ]
  },
  {
   "cell_type": "code",
   "execution_count": 21,
   "id": "df4c81fa-5f4b-4eea-965b-7ca76167a492",
   "metadata": {
    "execution": {
     "iopub.execute_input": "2024-10-18T16:59:49.952105Z",
     "iopub.status.busy": "2024-10-18T16:59:44.138885Z",
     "iopub.status.idle": "2024-10-18T16:59:53.014374Z",
     "shell.execute_reply": "2024-10-18T16:59:53.013753Z",
     "shell.execute_reply.started": "2024-10-18T16:59:49.952022Z"
    },
    "scrolled": true
   },
   "outputs": [],
   "source": [
    "adilson_merged_dd = adilson_works_dd.merge(adilson_di, left_on='work_id', right_on='paper_openalex_id')"
   ]
  },
  {
   "cell_type": "code",
   "execution_count": 22,
   "id": "c28ae7b9-c343-41ce-b1dc-4f23a05a2e9a",
   "metadata": {
    "execution": {
     "iopub.execute_input": "2024-10-18T17:00:05.110478Z",
     "iopub.status.busy": "2024-10-18T17:00:02.420142Z",
     "iopub.status.idle": "2024-10-18T17:00:13.508645Z",
     "shell.execute_reply": "2024-10-18T17:00:13.508006Z",
     "shell.execute_reply.started": "2024-10-18T17:00:05.110411Z"
    }
   },
   "outputs": [],
   "source": [
    "adilson_merged_dd.to_csv('adilson_di_merged.csv')"
   ]
  },
  {
   "cell_type": "code",
   "execution_count": null,
   "id": "762ecd18-4cee-45cd-8fbe-69c470484816",
   "metadata": {},
   "outputs": [],
   "source": []
  }
 ],
 "metadata": {
  "kernelspec": {
   "display_name": "Python 3 (ipykernel)",
   "language": "python",
   "name": "python3"
  },
  "language_info": {
   "codemirror_mode": {
    "name": "ipython",
    "version": 3
   },
   "file_extension": ".py",
   "mimetype": "text/x-python",
   "name": "python",
   "nbconvert_exporter": "python",
   "pygments_lexer": "ipython3",
   "version": "3.12.6"
  }
 },
 "nbformat": 4,
 "nbformat_minor": 5
}
